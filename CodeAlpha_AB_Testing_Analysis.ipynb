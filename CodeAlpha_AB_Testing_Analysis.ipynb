{
 "cells": [
  {
   "cell_type": "code",
   "execution_count": 78,
   "id": "da9bc5bf-6ed8-455a-a4e3-836fd29eed50",
   "metadata": {
    "scrolled": true
   },
   "outputs": [
    {
     "name": "stdout",
     "output_type": "stream",
     "text": [
      "Requirement already satisfied: scikit-posthocs in c:\\users\\dell\\anaconda3\\lib\\site-packages (0.9.0)\n",
      "Requirement already satisfied: numpy in c:\\users\\dell\\anaconda3\\lib\\site-packages (from scikit-posthocs) (1.26.4)\n",
      "Requirement already satisfied: scipy>=1.9.0 in c:\\users\\dell\\anaconda3\\lib\\site-packages (from scikit-posthocs) (1.13.1)\n",
      "Requirement already satisfied: statsmodels in c:\\users\\dell\\anaconda3\\lib\\site-packages (from scikit-posthocs) (0.14.2)\n",
      "Requirement already satisfied: pandas>=0.20.0 in c:\\users\\dell\\anaconda3\\lib\\site-packages (from scikit-posthocs) (2.2.2)\n",
      "Requirement already satisfied: seaborn in c:\\users\\dell\\anaconda3\\lib\\site-packages (from scikit-posthocs) (0.13.2)\n",
      "Requirement already satisfied: matplotlib in c:\\users\\dell\\anaconda3\\lib\\site-packages (from scikit-posthocs) (3.8.4)\n",
      "Requirement already satisfied: python-dateutil>=2.8.2 in c:\\users\\dell\\anaconda3\\lib\\site-packages (from pandas>=0.20.0->scikit-posthocs) (2.9.0.post0)\n",
      "Requirement already satisfied: pytz>=2020.1 in c:\\users\\dell\\anaconda3\\lib\\site-packages (from pandas>=0.20.0->scikit-posthocs) (2024.1)\n",
      "Requirement already satisfied: tzdata>=2022.7 in c:\\users\\dell\\anaconda3\\lib\\site-packages (from pandas>=0.20.0->scikit-posthocs) (2023.3)\n",
      "Requirement already satisfied: contourpy>=1.0.1 in c:\\users\\dell\\anaconda3\\lib\\site-packages (from matplotlib->scikit-posthocs) (1.2.0)\n",
      "Requirement already satisfied: cycler>=0.10 in c:\\users\\dell\\anaconda3\\lib\\site-packages (from matplotlib->scikit-posthocs) (0.11.0)\n",
      "Requirement already satisfied: fonttools>=4.22.0 in c:\\users\\dell\\anaconda3\\lib\\site-packages (from matplotlib->scikit-posthocs) (4.51.0)\n",
      "Requirement already satisfied: kiwisolver>=1.3.1 in c:\\users\\dell\\anaconda3\\lib\\site-packages (from matplotlib->scikit-posthocs) (1.4.4)\n",
      "Requirement already satisfied: packaging>=20.0 in c:\\users\\dell\\anaconda3\\lib\\site-packages (from matplotlib->scikit-posthocs) (23.2)\n",
      "Requirement already satisfied: pillow>=8 in c:\\users\\dell\\anaconda3\\lib\\site-packages (from matplotlib->scikit-posthocs) (10.3.0)\n",
      "Requirement already satisfied: pyparsing>=2.3.1 in c:\\users\\dell\\anaconda3\\lib\\site-packages (from matplotlib->scikit-posthocs) (3.0.9)\n",
      "Requirement already satisfied: patsy>=0.5.6 in c:\\users\\dell\\anaconda3\\lib\\site-packages (from statsmodels->scikit-posthocs) (0.5.6)\n",
      "Requirement already satisfied: six in c:\\users\\dell\\anaconda3\\lib\\site-packages (from patsy>=0.5.6->statsmodels->scikit-posthocs) (1.16.0)\n"
     ]
    }
   ],
   "source": [
    "!pip install scikit-posthocs\n"
   ]
  },
  {
   "cell_type": "code",
   "execution_count": 43,
   "id": "030c9532-265b-4b64-91cc-8210036ca070",
   "metadata": {},
   "outputs": [
    {
     "data": {
      "text/html": [
       "<div>\n",
       "<style scoped>\n",
       "    .dataframe tbody tr th:only-of-type {\n",
       "        vertical-align: middle;\n",
       "    }\n",
       "\n",
       "    .dataframe tbody tr th {\n",
       "        vertical-align: top;\n",
       "    }\n",
       "\n",
       "    .dataframe thead th {\n",
       "        text-align: right;\n",
       "    }\n",
       "</style>\n",
       "<table border=\"1\" class=\"dataframe\">\n",
       "  <thead>\n",
       "    <tr style=\"text-align: right;\">\n",
       "      <th></th>\n",
       "      <th>MarketID</th>\n",
       "      <th>MarketSize</th>\n",
       "      <th>LocationID</th>\n",
       "      <th>AgeOfStore</th>\n",
       "      <th>Promotion</th>\n",
       "      <th>week</th>\n",
       "      <th>SalesInThousands</th>\n",
       "    </tr>\n",
       "  </thead>\n",
       "  <tbody>\n",
       "    <tr>\n",
       "      <th>0</th>\n",
       "      <td>1</td>\n",
       "      <td>Medium</td>\n",
       "      <td>1</td>\n",
       "      <td>4</td>\n",
       "      <td>3</td>\n",
       "      <td>1</td>\n",
       "      <td>33.73</td>\n",
       "    </tr>\n",
       "    <tr>\n",
       "      <th>1</th>\n",
       "      <td>1</td>\n",
       "      <td>Medium</td>\n",
       "      <td>1</td>\n",
       "      <td>4</td>\n",
       "      <td>3</td>\n",
       "      <td>2</td>\n",
       "      <td>35.67</td>\n",
       "    </tr>\n",
       "    <tr>\n",
       "      <th>2</th>\n",
       "      <td>1</td>\n",
       "      <td>Medium</td>\n",
       "      <td>1</td>\n",
       "      <td>4</td>\n",
       "      <td>3</td>\n",
       "      <td>3</td>\n",
       "      <td>29.03</td>\n",
       "    </tr>\n",
       "    <tr>\n",
       "      <th>3</th>\n",
       "      <td>1</td>\n",
       "      <td>Medium</td>\n",
       "      <td>1</td>\n",
       "      <td>4</td>\n",
       "      <td>3</td>\n",
       "      <td>4</td>\n",
       "      <td>39.25</td>\n",
       "    </tr>\n",
       "    <tr>\n",
       "      <th>4</th>\n",
       "      <td>1</td>\n",
       "      <td>Medium</td>\n",
       "      <td>2</td>\n",
       "      <td>5</td>\n",
       "      <td>2</td>\n",
       "      <td>1</td>\n",
       "      <td>27.81</td>\n",
       "    </tr>\n",
       "    <tr>\n",
       "      <th>5</th>\n",
       "      <td>1</td>\n",
       "      <td>Medium</td>\n",
       "      <td>2</td>\n",
       "      <td>5</td>\n",
       "      <td>2</td>\n",
       "      <td>2</td>\n",
       "      <td>34.67</td>\n",
       "    </tr>\n",
       "    <tr>\n",
       "      <th>6</th>\n",
       "      <td>1</td>\n",
       "      <td>Medium</td>\n",
       "      <td>2</td>\n",
       "      <td>5</td>\n",
       "      <td>2</td>\n",
       "      <td>3</td>\n",
       "      <td>27.98</td>\n",
       "    </tr>\n",
       "    <tr>\n",
       "      <th>7</th>\n",
       "      <td>1</td>\n",
       "      <td>Medium</td>\n",
       "      <td>2</td>\n",
       "      <td>5</td>\n",
       "      <td>2</td>\n",
       "      <td>4</td>\n",
       "      <td>27.72</td>\n",
       "    </tr>\n",
       "    <tr>\n",
       "      <th>8</th>\n",
       "      <td>1</td>\n",
       "      <td>Medium</td>\n",
       "      <td>3</td>\n",
       "      <td>12</td>\n",
       "      <td>1</td>\n",
       "      <td>1</td>\n",
       "      <td>44.54</td>\n",
       "    </tr>\n",
       "    <tr>\n",
       "      <th>9</th>\n",
       "      <td>1</td>\n",
       "      <td>Medium</td>\n",
       "      <td>3</td>\n",
       "      <td>12</td>\n",
       "      <td>1</td>\n",
       "      <td>2</td>\n",
       "      <td>37.94</td>\n",
       "    </tr>\n",
       "  </tbody>\n",
       "</table>\n",
       "</div>"
      ],
      "text/plain": [
       "   MarketID MarketSize  LocationID  AgeOfStore  Promotion  week  \\\n",
       "0         1     Medium           1           4          3     1   \n",
       "1         1     Medium           1           4          3     2   \n",
       "2         1     Medium           1           4          3     3   \n",
       "3         1     Medium           1           4          3     4   \n",
       "4         1     Medium           2           5          2     1   \n",
       "5         1     Medium           2           5          2     2   \n",
       "6         1     Medium           2           5          2     3   \n",
       "7         1     Medium           2           5          2     4   \n",
       "8         1     Medium           3          12          1     1   \n",
       "9         1     Medium           3          12          1     2   \n",
       "\n",
       "   SalesInThousands  \n",
       "0             33.73  \n",
       "1             35.67  \n",
       "2             29.03  \n",
       "3             39.25  \n",
       "4             27.81  \n",
       "5             34.67  \n",
       "6             27.98  \n",
       "7             27.72  \n",
       "8             44.54  \n",
       "9             37.94  "
      ]
     },
     "execution_count": 43,
     "metadata": {},
     "output_type": "execute_result"
    }
   ],
   "source": [
    "import pandas as pd \n",
    "import matplotlib.pyplot as plt\n",
    "import seaborn as sns\n",
    "import scipy.stats as stats\n",
    "\n",
    "df = pd.read_csv('WA_Marketing-Campaign.csv')\n",
    "df.head(10)"
   ]
  },
  {
   "cell_type": "code",
   "execution_count": 9,
   "id": "6c4472e6-d10e-44f3-8344-634dfaaf1c8f",
   "metadata": {},
   "outputs": [
    {
     "data": {
      "text/html": [
       "<div>\n",
       "<style scoped>\n",
       "    .dataframe tbody tr th:only-of-type {\n",
       "        vertical-align: middle;\n",
       "    }\n",
       "\n",
       "    .dataframe tbody tr th {\n",
       "        vertical-align: top;\n",
       "    }\n",
       "\n",
       "    .dataframe thead th {\n",
       "        text-align: right;\n",
       "    }\n",
       "</style>\n",
       "<table border=\"1\" class=\"dataframe\">\n",
       "  <thead>\n",
       "    <tr style=\"text-align: right;\">\n",
       "      <th></th>\n",
       "      <th>MarketID</th>\n",
       "      <th>LocationID</th>\n",
       "      <th>AgeOfStore</th>\n",
       "      <th>Promotion</th>\n",
       "      <th>week</th>\n",
       "      <th>SalesInThousands</th>\n",
       "    </tr>\n",
       "  </thead>\n",
       "  <tbody>\n",
       "    <tr>\n",
       "      <th>count</th>\n",
       "      <td>548.000000</td>\n",
       "      <td>548.000000</td>\n",
       "      <td>548.000000</td>\n",
       "      <td>548.000000</td>\n",
       "      <td>548.000000</td>\n",
       "      <td>548.000000</td>\n",
       "    </tr>\n",
       "    <tr>\n",
       "      <th>mean</th>\n",
       "      <td>5.715328</td>\n",
       "      <td>479.656934</td>\n",
       "      <td>8.503650</td>\n",
       "      <td>2.029197</td>\n",
       "      <td>2.500000</td>\n",
       "      <td>53.466204</td>\n",
       "    </tr>\n",
       "    <tr>\n",
       "      <th>std</th>\n",
       "      <td>2.877001</td>\n",
       "      <td>287.973679</td>\n",
       "      <td>6.638345</td>\n",
       "      <td>0.810729</td>\n",
       "      <td>1.119055</td>\n",
       "      <td>16.755216</td>\n",
       "    </tr>\n",
       "    <tr>\n",
       "      <th>min</th>\n",
       "      <td>1.000000</td>\n",
       "      <td>1.000000</td>\n",
       "      <td>1.000000</td>\n",
       "      <td>1.000000</td>\n",
       "      <td>1.000000</td>\n",
       "      <td>17.340000</td>\n",
       "    </tr>\n",
       "    <tr>\n",
       "      <th>25%</th>\n",
       "      <td>3.000000</td>\n",
       "      <td>216.000000</td>\n",
       "      <td>4.000000</td>\n",
       "      <td>1.000000</td>\n",
       "      <td>1.750000</td>\n",
       "      <td>42.545000</td>\n",
       "    </tr>\n",
       "    <tr>\n",
       "      <th>50%</th>\n",
       "      <td>6.000000</td>\n",
       "      <td>504.000000</td>\n",
       "      <td>7.000000</td>\n",
       "      <td>2.000000</td>\n",
       "      <td>2.500000</td>\n",
       "      <td>50.200000</td>\n",
       "    </tr>\n",
       "    <tr>\n",
       "      <th>75%</th>\n",
       "      <td>8.000000</td>\n",
       "      <td>708.000000</td>\n",
       "      <td>12.000000</td>\n",
       "      <td>3.000000</td>\n",
       "      <td>3.250000</td>\n",
       "      <td>60.477500</td>\n",
       "    </tr>\n",
       "    <tr>\n",
       "      <th>max</th>\n",
       "      <td>10.000000</td>\n",
       "      <td>920.000000</td>\n",
       "      <td>28.000000</td>\n",
       "      <td>3.000000</td>\n",
       "      <td>4.000000</td>\n",
       "      <td>99.650000</td>\n",
       "    </tr>\n",
       "  </tbody>\n",
       "</table>\n",
       "</div>"
      ],
      "text/plain": [
       "         MarketID  LocationID  AgeOfStore   Promotion        week  \\\n",
       "count  548.000000  548.000000  548.000000  548.000000  548.000000   \n",
       "mean     5.715328  479.656934    8.503650    2.029197    2.500000   \n",
       "std      2.877001  287.973679    6.638345    0.810729    1.119055   \n",
       "min      1.000000    1.000000    1.000000    1.000000    1.000000   \n",
       "25%      3.000000  216.000000    4.000000    1.000000    1.750000   \n",
       "50%      6.000000  504.000000    7.000000    2.000000    2.500000   \n",
       "75%      8.000000  708.000000   12.000000    3.000000    3.250000   \n",
       "max     10.000000  920.000000   28.000000    3.000000    4.000000   \n",
       "\n",
       "       SalesInThousands  \n",
       "count        548.000000  \n",
       "mean          53.466204  \n",
       "std           16.755216  \n",
       "min           17.340000  \n",
       "25%           42.545000  \n",
       "50%           50.200000  \n",
       "75%           60.477500  \n",
       "max           99.650000  "
      ]
     },
     "execution_count": 9,
     "metadata": {},
     "output_type": "execute_result"
    }
   ],
   "source": [
    "df.describe()\n"
   ]
  },
  {
   "cell_type": "code",
   "execution_count": 11,
   "id": "ded3e57b-aeb2-4827-bd2f-b5c2a1b719ba",
   "metadata": {},
   "outputs": [
    {
     "name": "stdout",
     "output_type": "stream",
     "text": [
      "<class 'pandas.core.frame.DataFrame'>\n",
      "RangeIndex: 548 entries, 0 to 547\n",
      "Data columns (total 7 columns):\n",
      " #   Column            Non-Null Count  Dtype  \n",
      "---  ------            --------------  -----  \n",
      " 0   MarketID          548 non-null    int64  \n",
      " 1   MarketSize        548 non-null    object \n",
      " 2   LocationID        548 non-null    int64  \n",
      " 3   AgeOfStore        548 non-null    int64  \n",
      " 4   Promotion         548 non-null    int64  \n",
      " 5   week              548 non-null    int64  \n",
      " 6   SalesInThousands  548 non-null    float64\n",
      "dtypes: float64(1), int64(5), object(1)\n",
      "memory usage: 30.1+ KB\n"
     ]
    }
   ],
   "source": [
    "df.info()"
   ]
  },
  {
   "cell_type": "code",
   "execution_count": 15,
   "id": "77f375f5-4849-42c3-83a3-c98c3c8be197",
   "metadata": {},
   "outputs": [
    {
     "name": "stdout",
     "output_type": "stream",
     "text": [
      "MarketID            0\n",
      "MarketSize          0\n",
      "LocationID          0\n",
      "AgeOfStore          0\n",
      "Promotion           0\n",
      "week                0\n",
      "SalesInThousands    0\n",
      "dtype: int64\n"
     ]
    }
   ],
   "source": [
    "print(df.isna().sum())"
   ]
  },
  {
   "cell_type": "code",
   "execution_count": 25,
   "id": "260df9bf-8b21-4826-b796-5b85bde064a4",
   "metadata": {},
   "outputs": [
    {
     "data": {
      "text/plain": [
       "([<matplotlib.axis.XTick at 0x15d8da01010>,\n",
       "  <matplotlib.axis.XTick at 0x15d8e530890>,\n",
       "  <matplotlib.axis.XTick at 0x15d8d9ef7a0>],\n",
       " [Text(0, 0, 'Promotion 1'),\n",
       "  Text(1, 0, 'Promotion 2'),\n",
       "  Text(2, 0, 'Promotion 3')])"
      ]
     },
     "execution_count": 25,
     "metadata": {},
     "output_type": "execute_result"
    },
    {
     "data": {
      "image/png": "[encoded data removed]",
      "text/plain": [
       "<Figure size 800x500 with 1 Axes>"
      ]
     },
     "metadata": {},
     "output_type": "display_data"
    }
   ],
   "source": [
    "#we create a  count plot for each promotion \n",
    "plt.figure(figsize=(8, 5))\n",
    "ax = sns.countplot(x='Promotion', data=df , hue='Promotion' , palette='coolwarm')\n",
    "plt.title('Count of Each Promotion Type')\n",
    "plt.xlabel('Promotion Type')\n",
    "plt.ylabel('Count')\n",
    "plt.xticks(ticks=[0, 1, 2], labels=['Promotion 1', 'Promotion 2', 'Promotion 3'] )"
   ]
  },
  {
   "cell_type": "markdown",
   "id": "3f24bfb8-5148-4282-9b77-36c1dbcc19e9",
   "metadata": {},
   "source": [
    "Each promotion type has a similar number of observations, which ensures fair comparisons and valid results.\r",
    "ns"
   ]
  },
  {
   "cell_type": "code",
   "execution_count": 29,
   "id": "ffc89b83-1592-4728-9114-3393b47a36e2",
   "metadata": {},
   "outputs": [
    {
     "data": {
      "image/png": "[encoded data removed]",
      "text/plain": [
       "<Figure size 640x480 with 1 Axes>"
      ]
     },
     "metadata": {},
     "output_type": "display_data"
    }
   ],
   "source": [
    "#kde & histogram plot to visulaes the sales made by each promotion \n",
    "sns.histplot(data=df, x='SalesInThousands', hue='Promotion', multiple='stack', kde=True)\n",
    "plt.title('Stacked Sales Distribution by Promotion')\n",
    "plt.xlabel('Sales (in Thousands)')\n",
    "plt.ylabel('Frequency')\n",
    "plt.show()"
   ]
  },
  {
   "cell_type": "markdown",
   "id": "d881f7a3-11a8-4d3a-b797-3dd5beecd98a",
   "metadata": {},
   "source": [
    "**Notes:**\n",
    "\n",
    "- Promotion 1 :  The highest among the promotions (40-60k sales).\r",
    "- \n",
    "Promotion  : 2Has a  wider spread with a peak around 50-70k.- \r\n",
    "Promotion  : M more spread out, with consistent sales in the 30-80k range."
   ]
  },
  {
   "cell_type": "code",
   "execution_count": 37,
   "id": "da021b93-c09e-49fd-a658-0b6d52cc570e",
   "metadata": {},
   "outputs": [
    {
     "name": "stdout",
     "output_type": "stream",
     "text": [
      "Promotion\n",
      "1    58.099012\n",
      "2    47.329415\n",
      "3    55.364468\n",
      "Name: SalesInThousands, dtype: float64\n"
     ]
    }
   ],
   "source": [
    "#calculating the mean sales for each promotion \n",
    "mean_sales = df.groupby('Promotion')['SalesInThousands'].mean()\n",
    "print(mean_sales)"
   ]
  },
  {
   "cell_type": "markdown",
   "id": "483ee209-2939-4d57-a060-d83e1e7b62d2",
   "metadata": {},
   "source": [
    "\n",
    "\r\n",
    "ANOVA is the preferred statistical method for comparing the means of multiple groups, such as different promotion types, because it allows for a simultaneous assessment of whether there are significant differences among group means. Unlike t-tests, which only compare two groups at a time, ANOVA can evaluate three or more groups without increasing the likelihood of Type I errors. This makes it an ideal choice for analyzing the impact of various promotions on sales performance, providing a comprehensive understanding of their effects in a single test.\r\n",
    "\r\n",
    "**Hypotheses:**\r\n",
    "\r\n",
    "- **H0:** M1 = M2 = M3 (There is no difference in the average sales across the promotions.)\r\n",
    "- **H1:** At least one of the promotion averages is dif(Promotion 1 makes more sales than teh other promotions)ferent.\r\n",
    "\r\n",
    "Before conducting ANOVA on the sales data across different promotions, it is essential to check that the sales data for each promotion is normally distributed and that the variances across the groups are equal."
   ]
  },
  {
   "cell_type": "code",
   "execution_count": 55,
   "id": "9f14c681-f7c0-436e-88c8-16c3157aa0b0",
   "metadata": {},
   "outputs": [
    {
     "name": "stdout",
     "output_type": "stream",
     "text": [
      "Shapiro-Wilk Test for Promotion 1: Not Normal\n",
      "Shapiro-Wilk Test for Promotion 2: Not Normal\n",
      "Shapiro-Wilk Test for Promotion 3: Not Normal\n"
     ]
    }
   ],
   "source": [
    "# Shapiro-Wilk test for normality\n",
    "shapiro_test_p1 = stats.shapiro(df[df['Promotion'] == 1]['SalesInThousands'])\n",
    "shapiro_test_p2 = stats.shapiro(df[df['Promotion'] == 2]['SalesInThousands'])\n",
    "shapiro_test_p3 = stats.shapiro(df[df['Promotion'] == 3]['SalesInThousands'])\n",
    "\n",
    "print(f\"Shapiro-Wilk Test for Promotion 1: {'Normal' if shapiro_test_p1.pvalue > 0.05 else 'Not Normal'}\")\n",
    "print(f\"Shapiro-Wilk Test for Promotion 2: {'Normal' if shapiro_test_p2.pvalue > 0.05 else 'Not Normal'}\")\n",
    "print(f\"Shapiro-Wilk Test for Promotion 3: {'Normal' if shapiro_test_p3.pvalue > 0.05 else 'Not Normal'}\")\n"
   ]
  },
  {
   "cell_type": "markdown",
   "id": "fd9bd379-1a8a-486b-a9a9-ac557333ea1d",
   "metadata": {},
   "source": [
    "Since the assumptions for ANOVA are not met, you can use the Kruskal-Wallis test, a non-parametric alternative that doesn't require normality or equal variances."
   ]
  },
  {
   "cell_type": "code",
   "execution_count": 62,
   "id": "3b9dcffb-f33c-4b3f-90c7-c8f1f289fd72",
   "metadata": {},
   "outputs": [
    {
     "name": "stdout",
     "output_type": "stream",
     "text": [
      "KruskalResult(statistic=53.29475169322799, pvalue=2.6741866266697816e-12)\n"
     ]
    }
   ],
   "source": [
    "# Perform Kruskal-Wallis test\n",
    "from scipy.stats import kruskal\n",
    "kruskal_result = kruskal(\n",
    "    df[df['Promotion'] == 1]['SalesInThousands'],\n",
    "    df[df['Promotion'] == 2]['SalesInThousands'],\n",
    "    df[df['Promotion'] == 3]['SalesInThousands']\n",
    ")\n",
    "print(kruskal_result)"
   ]
  },
  {
   "cell_type": "markdown",
   "id": "0ad434c3-1187-471a-8363-482c1e5b0788",
   "metadata": {},
   "source": [
    "**Interpretation:**  \n",
    "\n",
    "  **p-value (2.67e-12):** This p-value is extremely small and much less than 0.05, which means that there is a statistically significant difference in the sales distributions among the three promotion groups.\n",
    "\n",
    "  \n",
    "**Conclusion:**  Since the p-value is so small, we reject the null hypothesis (H0), which states that there is no difference between the promotion groups. This indicates that at least one of the promotion groups has a different sales distribution compared to the others."
   ]
  },
  {
   "cell_type": "markdown",
   "id": "2834844f-caa3-4ed2-a7b1-212167eff7af",
   "metadata": {},
   "source": [
    "We will perform a post-hoc tests (like Dunn's test) to determine which specific promotion groups differ from each other."
   ]
  },
  {
   "cell_type": "code",
   "execution_count": 82,
   "id": "4334ab56-6e3e-4597-a8be-a134ed713cf6",
   "metadata": {},
   "outputs": [
    {
     "data": {
      "text/html": [
       "<div>\n",
       "<style scoped>\n",
       "    .dataframe tbody tr th:only-of-type {\n",
       "        vertical-align: middle;\n",
       "    }\n",
       "\n",
       "    .dataframe tbody tr th {\n",
       "        vertical-align: top;\n",
       "    }\n",
       "\n",
       "    .dataframe thead th {\n",
       "        text-align: right;\n",
       "    }\n",
       "</style>\n",
       "<table border=\"1\" class=\"dataframe\">\n",
       "  <thead>\n",
       "    <tr style=\"text-align: right;\">\n",
       "      <th></th>\n",
       "      <th>1</th>\n",
       "      <th>2</th>\n",
       "      <th>3</th>\n",
       "    </tr>\n",
       "  </thead>\n",
       "  <tbody>\n",
       "    <tr>\n",
       "      <th>1</th>\n",
       "      <td>1.000000e+00</td>\n",
       "      <td>6.461842e-12</td>\n",
       "      <td>1.458660e-01</td>\n",
       "    </tr>\n",
       "    <tr>\n",
       "      <th>2</th>\n",
       "      <td>6.461842e-12</td>\n",
       "      <td>1.000000e+00</td>\n",
       "      <td>7.083069e-07</td>\n",
       "    </tr>\n",
       "    <tr>\n",
       "      <th>3</th>\n",
       "      <td>1.458660e-01</td>\n",
       "      <td>7.083069e-07</td>\n",
       "      <td>1.000000e+00</td>\n",
       "    </tr>\n",
       "  </tbody>\n",
       "</table>\n",
       "</div>"
      ],
      "text/plain": [
       "              1             2             3\n",
       "1  1.000000e+00  6.461842e-12  1.458660e-01\n",
       "2  6.461842e-12  1.000000e+00  7.083069e-07\n",
       "3  1.458660e-01  7.083069e-07  1.000000e+00"
      ]
     },
     "execution_count": 82,
     "metadata": {},
     "output_type": "execute_result"
    }
   ],
   "source": [
    "\n",
    "from scikit_posthocs import posthoc_dunn\n",
    "\n",
    "# performing  Dunn's test with Bonferroni correction\n",
    "dunn_result = posthoc_dunn(df, val_col='SalesInThousands', group_col='Promotion', p_adjust='bonferroni')\n",
    "dunn_result\n"
   ]
  },
  {
   "cell_type": "markdown",
   "id": "77db85e9-bc41-455d-a8dc-d59af49841e9",
   "metadata": {},
   "source": [
    "By comparing the promotions P values we conclude :\n",
    " - Promotions 1 and 2 are significantly different from each other.\n",
    " - Promotions 2 and 3 are significantly different from each other.\n",
    " - Promotions 1 and 3 do not show a significant difference."
   ]
  },
  {
   "cell_type": "code",
   "execution_count": null,
   "id": "b59044c5-5f7f-4b83-806d-3e0c0d126255",
   "metadata": {},
   "outputs": [],
   "source": []
  }
 ],
 "metadata": {
  "kernelspec": {
   "display_name": "Python 3 (ipykernel)",
   "language": "python",
   "name": "python3"
  },
  "language_info": {
   "codemirror_mode": {
    "name": "ipython",
    "version": 3
   },
   "file_extension": ".py",
   "mimetype": "text/x-python",
   "name": "python",
   "nbconvert_exporter": "python",
   "pygments_lexer": "ipython3",
   "version": "3.12.4"
  }
 },
 "nbformat": 4,
 "nbformat_minor": 5
}
